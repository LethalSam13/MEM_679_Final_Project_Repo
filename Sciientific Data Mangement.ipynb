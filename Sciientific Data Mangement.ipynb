{
 "cells": [
  {
   "cell_type": "code",
   "execution_count": 3,
   "metadata": {},
   "outputs": [
    {
     "name": "stdout",
     "output_type": "stream",
     "text": [
      "Unable to connect to pypi: <Fault -32500: 'RuntimeError: PyPI no longer supports the XMLRPC package_releases method. Use JSON or Simple API instead. See https://warehouse.pypa.io/api-reference/xml-rpc.html#deprecated-methods for more information.'>\n",
      "Data record created with ID: d/525638140\n",
      "Data uploaded successfully: (task {\n",
      "  id: \"task/525746285\"\n",
      "  type: TT_DATA_PUT\n",
      "  status: TS_SUCCEEDED\n",
      "  client: \"u/sp3835\"\n",
      "  step: 3\n",
      "  steps: 4\n",
      "  msg: \"Finished\"\n",
      "  ct: 1732678079\n",
      "  ut: 1732678085\n",
      "  source: \"a288342a-a6de-11ef-868a-73df88a31e54/C/Users/admin/Downloads/Dataset of Wakes Structure/Dataset of Wakes Structure.zip\"\n",
      "  dest: \"d/525638140\"\n",
      "}\n",
      ", 'TaskDataReply')\n"
     ]
    }
   ],
   "source": [
    "import json\n",
    "from datafed.CommandLib import API\n",
    "\n",
    "# Initialize the DataFed API\n",
    "df_api = API()\n",
    "df_api.setContext(\"p/mem679-fall2024\")  # Replace with your project or collection context\n",
    "\n",
    "# Metadata preparation\n",
    "metadata = {\n",
    "    \"title\": \"Wake Structure Classification in Turbulent Flows\",\n",
    "    \"description\": (\n",
    "        \"This dataset contains time series sensor measurements of turbulent wakes behind an oscillating cylinder. \"\n",
    "        \"Measurements are recorded every 30 seconds for a period of 100 seconds at distances of 4D and 6D, \"\n",
    "        \"from the cylinder (where D is the cylinder's diameter). The dataset includes key variables \"\n",
    "        \"like Reynolds number (Re), amplitude ratio (A*), frequency ratio (U*), and wake structure types (C(2S), P+S, 2S, 2Po, 2P).\"\n",
    "    ),\n",
    "    \"authorship\": \"Samarth Patel, ID: 14628071\",\n",
    "    \"affiliation\": \"MEM-679, Fall 2024, Drexel University\",\n",
    "    \"date_of_creation\": \"2024-11-25\",\n",
    "    \"data_type\": \"Numerical\",\n",
    "    \"format\": \"CSV\",\n",
    "    \"keywords\": [\"turbulent flows\", \"wake structure classification\", \"Reynolds number\", \"machine learning\"],\n",
    "    \"project_specific_metadata\": {\n",
    "        \"feature_summary\": {\n",
    "            \"Reynolds Number (Re)\": \"Influences the turbulence level in the wake.\",\n",
    "            \"Amplitude Ratio (A*)\": \"Governs the oscillation magnitude.\",\n",
    "            \"Frequency Ratio (U*)\": \"Controls the wake oscillation frequency.\",\n",
    "            \"Sensor Measurements\": (\n",
    "                \"Time series data providing flow measurements along various distances downstream from the cylinder.\"\n",
    "            ),\n",
    "        },\n",
    "        \"objective\": (\n",
    "            \"To classify wake structures using supervised learning and explore new patterns using unsupervised learning, \"\n",
    "            \"with applications in vibration control and energy harvesting.\"\n",
    "        ),\n",
    "    },\n",
    "}\n",
    "\n",
    "# Create data record\n",
    "dc_resp = df_api.dataCreate(\n",
    "    \"Wake Structure Dataset\",\n",
    "    metadata=json.dumps(metadata),\n",
    "    parent_id=\"c/525610792\"  # Replace with your collection ID\n",
    ")\n",
    "\n",
    "# Extract the record ID\n",
    "record_id = dc_resp[0].data[0].id\n",
    "print(f\"Data record created with ID: {record_id}\")\n",
    "\n",
    "# Upload the raw data file (replace with your file path)\n",
    "put_resp = df_api.dataPut(record_id, \"C:/Users/admin/Downloads/Dataset of Wakes Structure/Dataset of Wakes Structure.zip\", wait=True)\n",
    "print(f\"Data uploaded successfully: {put_resp}\")\n"
   ]
  },
  {
   "cell_type": "code",
   "execution_count": 6,
   "metadata": {},
   "outputs": [
    {
     "name": "stdout",
     "output_type": "stream",
     "text": [
      "Unable to connect to pypi: <Fault -32500: 'RuntimeError: PyPI no longer supports the XMLRPC package_releases method. Use JSON or Simple API instead. See https://warehouse.pypa.io/api-reference/xml-rpc.html#deprecated-methods for more information.'>\n"
     ]
    },
    {
     "name": "stderr",
     "output_type": "stream",
     "text": [
      "c:\\Users\\admin\\Desktop\\Homework-4\\env_HW-4\\Lib\\site-packages\\datafed\\Connection.py:200: UserWarning: reflection.ParseMessage() is deprecated. Please use MessageFactory.GetMessageClass() and message.ParseFromString() instead. reflection.ParseMessage() will be removed in Jan 2025.\n",
      "  reply = google.protobuf.reflection.ParseMessage(desc, data)\n",
      "c:\\Users\\admin\\Desktop\\Homework-4\\env_HW-4\\Lib\\site-packages\\google\\protobuf\\reflection.py:59: UserWarning: reflection.MakeClass() is deprecated. Please use MessageFactory.GetMessageClass() instead. reflection.MakeClass() will be removed in Jan 2025.\n",
      "  result_class = MakeClass(descriptor)\n"
     ]
    },
    {
     "name": "stdout",
     "output_type": "stream",
     "text": [
      "Found record: ID=c/u_sp3835_root, Title=Root Collection\n"
     ]
    }
   ],
   "source": [
    "from datafed.CommandLib import API\n",
    "\n",
    "# Initialize the DataFed API\n",
    "df_api = API()\n",
    "\n",
    "query_resp = df_api.queryDirect('title:\"Wake Structure Dataset\"')  # Replace with your dataset title or keyword\n",
    "\n",
    "# Print out the results\n",
    "for record in query_resp[0].item:\n",
    "    print(f\"Found record: ID={record.id}, Title={record.title}\")\n",
    "\n"
   ]
  },
  {
   "cell_type": "code",
   "execution_count": 7,
   "metadata": {},
   "outputs": [
    {
     "name": "stdout",
     "output_type": "stream",
     "text": [
      "Record Title: Wake Structure Dataset\n",
      "Metadata: {\"affiliation\":\"MEM-679, Fall 2024, Drexel University\",\"authorship\":\"Samarth Patel, ID: 14628071\",\"data_type\":\"Numerical\",\"date_of_creation\":\"2024-11-25\",\"description\":\"This dataset contains time series sensor measurements of turbulent wakes behind an oscillating cylinder. Measurements are recorded every 30 seconds for a period of 100 seconds at distances of 4D and 6D, from the cylinder (where D is the cylinder's diameter). The dataset includes key variables like Reynolds number (Re), amplitude ratio (A*), frequency ratio (U*), and wake structure types (C(2S), P+S, 2S, 2Po, 2P).\",\"format\":\"CSV\",\"keywords\":[\"turbulent flows\",\"wake structure classification\",\"Reynolds number\",\"machine learning\"],\"project_specific_metadata\":{\"feature_summary\":{\"Amplitude Ratio (A*)\":\"Governs the oscillation magnitude.\",\"Frequency Ratio (U*)\":\"Controls the wake oscillation frequency.\",\"Reynolds Number (Re)\":\"Influences the turbulence level in the wake.\",\"Sensor Measurements\":\"Time series data providing flow measurements along various distances downstream from the cylinder.\"},\"objective\":\"To classify wake structures using supervised learning and explore new patterns using unsupervised learning, with applications in vibration control and energy harvesting.\"},\"title\":\"Wake Structure Classification in Turbulent Flows\"}\n"
     ]
    }
   ],
   "source": [
    "# Use the record ID obtained during creation or from the search step\n",
    "record_id = \"d/525638140\"  # Replace with your actual record ID\n",
    "\n",
    "# Retrieve and display record information\n",
    "record_info = df_api.dataView(record_id)\n",
    "print(f\"Record Title: {record_info[0].data[0].title}\")\n",
    "print(f\"Metadata: {record_info[0].data[0].metadata}\")\n"
   ]
  }
 ],
 "metadata": {
  "kernelspec": {
   "display_name": "env_HW-4",
   "language": "python",
   "name": "python3"
  },
  "language_info": {
   "codemirror_mode": {
    "name": "ipython",
    "version": 3
   },
   "file_extension": ".py",
   "mimetype": "text/x-python",
   "name": "python",
   "nbconvert_exporter": "python",
   "pygments_lexer": "ipython3",
   "version": "3.13.0"
  }
 },
 "nbformat": 4,
 "nbformat_minor": 2
}
